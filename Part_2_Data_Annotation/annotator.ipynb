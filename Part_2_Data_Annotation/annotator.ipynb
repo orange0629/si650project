{
 "cells": [
  {
   "cell_type": "code",
   "execution_count": 2,
   "id": "fd6c2f90",
   "metadata": {},
   "outputs": [],
   "source": [
    "import pandas as pd\n",
    "import json\n",
    "query = pd.read_csv('query.csv')\n",
    "documents = pd.read_csv('dataset_full.csv')\n",
    "CACHE_FILENAME = 'cache.json'"
   ]
  },
  {
   "cell_type": "code",
   "execution_count": 6,
   "id": "d1e9889a",
   "metadata": {},
   "outputs": [
    {
     "name": "stdout",
     "output_type": "stream",
     "text": [
      "Input anything to begin your annotation, or \"exit\" to save and quit: gsd\n"
     ]
    }
   ],
   "source": [
    "try:\n",
    "    cache_file = open(CACHE_FILENAME, 'r')\n",
    "    cache_content = cache_file.read()\n",
    "    cache_dict = json.loads(cache_content)\n",
    "    cache_file.close()\n",
    "\n",
    "except:\n",
    "    cache_dict = {}\n",
    "\n",
    "search_result = pd.read_csv('result.csv')\n",
    "\n",
    "term = input('Input anything to begin your annotation, or \"exit\" to save and quit: ')\n",
    "index = 0\n",
    "while(term != \"exit\" and index < len(search_result)):\n",
    "    qid = int(search_result['qid'][index])\n",
    "    docid = int(search_result['docid'][index])\n",
    "    success = True\n",
    "    \n",
    "    if str(qid) not in cache_dict:\n",
    "        cache_dict[str(qid)] = {}\n",
    "    \n",
    "    if str(docid) not in cache_dict[str(qid)] and qid<=20 :\n",
    "        print('Document '+ str(docid) + ': '+ documents['Name'][docid], documents['State'][docid])\n",
    "        print(\"Rate: \"+ str(documents['overall_rate'][docid]), \"Review Number: \"+ str(documents['review_num'][docid]))\n",
    "        print(documents['url'][docid])\n",
    "        print(\"Query: \" + query['query'][qid-1])\n",
    "        print(documents['Description'][docid])\n",
    "        term = input('Input a score between 1-5, or \"exit\" to save and quit: ')\n",
    "        print('\\n')\n",
    "        print('\\n')\n",
    "        if(term.isdigit() and int(term) >= 1 and int(term) <=5):\n",
    "            cache_dict[str(qid)][str(docid)] = int(term)\n",
    "        else:\n",
    "            success = False\n",
    "    \n",
    "    if success:\n",
    "        index = index + 1\n",
    "    \n",
    "dumped_json_cache = json.dumps(cache_dict)\n",
    "fw = open(CACHE_FILENAME,\"w\")\n",
    "fw.write(dumped_json_cache)\n",
    "fw.close() \n",
    "\n",
    "qid_list = []\n",
    "docid_list = []\n",
    "docno_list = []\n",
    "score_list = []\n",
    "query_list = []\n",
    "\n",
    "for query_id in cache_dict:\n",
    "    for doc_id in cache_dict[query_id]:\n",
    "        qid_list.append(query_id)\n",
    "        docid_list.append(doc_id)\n",
    "        docno_list.append('doc_'+doc_id)\n",
    "        score_list.append(cache_dict[query_id][doc_id])\n",
    "        query_list.append(query['query'][int(query_id)-1])\n",
    "\n",
    "qrel = pd.DataFrame({'qid':qid_list, 'docno':docno_list, 'label':score_list})\n",
    "\n",
    "qrel.to_csv('qrels.csv', index = False)"
   ]
  },
  {
   "cell_type": "code",
   "execution_count": 11,
   "id": "4477c899",
   "metadata": {},
   "outputs": [],
   "source": [
    "#cache_dict ={}\n",
    "dumped_json_cache = json.dumps(cache_dict)\n",
    "fw = open(CACHE_FILENAME,\"w\")\n",
    "fw.write(dumped_json_cache)\n",
    "fw.close() "
   ]
  },
  {
   "cell_type": "code",
   "execution_count": null,
   "id": "01301268",
   "metadata": {},
   "outputs": [],
   "source": []
  }
 ],
 "metadata": {
  "kernelspec": {
   "display_name": "Python 3",
   "language": "python",
   "name": "python3"
  },
  "language_info": {
   "codemirror_mode": {
    "name": "ipython",
    "version": 3
   },
   "file_extension": ".py",
   "mimetype": "text/x-python",
   "name": "python",
   "nbconvert_exporter": "python",
   "pygments_lexer": "ipython3",
   "version": "3.8.8"
  }
 },
 "nbformat": 4,
 "nbformat_minor": 5
}
